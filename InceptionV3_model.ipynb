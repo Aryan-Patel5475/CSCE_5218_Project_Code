{
  "cells": [
    {
      "cell_type": "markdown",
      "metadata": {
        "id": "p9J9k-bNxs7O"
      },
      "source": [
        "### Importing required libraries"
      ]
    },
    {
      "cell_type": "code",
      "execution_count": 1,
      "metadata": {
        "id": "mGkQ4KK9x0cf"
      },
      "outputs": [],
      "source": [
        "import os\n",
        "import numpy as np\n",
        "from PIL import Image\n",
        "import cv2\n",
        "import tensorflow as tf\n",
        "from tensorflow.keras.preprocessing.image import ImageDataGenerator\n",
        "from tensorflow.keras.applications.inception_v3 import InceptionV3\n",
        "from tensorflow.keras.layers import Dense, GlobalAveragePooling2D\n",
        "from tensorflow.keras.models import Model\n",
        "from tensorflow.keras.callbacks import ModelCheckpoint, EarlyStopping\n",
        "from sklearn.metrics import f1_score, precision_score, recall_score, classification_report, precision_recall_curve\n",
        "from sklearn.preprocessing import label_binarize, OneHotEncoder\n",
        "import matplotlib.pyplot as plt"
      ]
    },
    {
      "cell_type": "markdown",
      "metadata": {
        "id": "79SWhNEex1yZ"
      },
      "source": [
        "### Feature Engineering functions"
      ]
    },
    {
      "cell_type": "code",
      "execution_count": 2,
      "metadata": {
        "id": "h87fmDj3x5Co"
      },
      "outputs": [],
      "source": [
        "def apply_clahe(img):\n",
        "    img = np.array(img)\n",
        "    lab = cv2.cvtColor(img, cv2.COLOR_RGB2LAB)\n",
        "    l, a, b = cv2.split(lab)\n",
        "    clahe = cv2.createCLAHE(clipLimit=2.0)\n",
        "    cl = clahe.apply(l)\n",
        "    merged = cv2.merge((cl, a, b))\n",
        "    final = cv2.cvtColor(merged, cv2.COLOR_LAB2RGB)\n",
        "    return final"
      ]
    },
    {
      "cell_type": "code",
      "execution_count": 3,
      "metadata": {
        "id": "Mhwxg95mx8lL"
      },
      "outputs": [],
      "source": [
        "def polynomial_transform(img):\n",
        "    img = np.array(img) / 255.0\n",
        "    poly = np.clip(img ** 2.2, 0, 1)\n",
        "    return (poly * 255).astype(np.uint8)"
      ]
    },
    {
      "cell_type": "code",
      "execution_count": 4,
      "metadata": {
        "id": "MRfQ7RjMx9iy"
      },
      "outputs": [],
      "source": [
        "def preprocess_pipeline(img, use_clahe=False, use_poly=False):\n",
        "    if use_clahe:\n",
        "        img = apply_clahe(img)\n",
        "    if use_poly:\n",
        "        img = polynomial_transform(img)\n",
        "    return img"
      ]
    },
    {
      "cell_type": "markdown",
      "metadata": {
        "id": "ZcX_x5jIx-WH"
      },
      "source": [
        "### Data generator class"
      ]
    },
    {
      "cell_type": "code",
      "execution_count": 5,
      "metadata": {
        "id": "aWTUilAiyBRi"
      },
      "outputs": [],
      "source": [
        "class CustomDataGenerator(tf.keras.utils.Sequence):\n",
        "    def __init__(self, directory, batch_size, target_size, use_clahe=False, use_poly=False, shuffle=True):\n",
        "        self.datagen = ImageDataGenerator(rescale=1./255)\n",
        "        self.generator = self.datagen.flow_from_directory(\n",
        "            directory,\n",
        "            target_size=target_size,\n",
        "            batch_size=batch_size,\n",
        "            class_mode='categorical',\n",
        "            shuffle=shuffle\n",
        "        )\n",
        "        self.use_clahe = use_clahe\n",
        "        self.use_poly = use_poly\n",
        "\n",
        "    def __len__(self):\n",
        "        return len(self.generator)\n",
        "\n",
        "    def __getitem__(self, index):\n",
        "        images, labels = self.generator[index]\n",
        "        processed_images = np.array([\n",
        "            preprocess_pipeline((img * 255).astype(np.uint8), self.use_clahe, self.use_poly)\n",
        "            for img in images\n",
        "        ])\n",
        "        processed_images = processed_images / 255.0\n",
        "        return processed_images, labels"
      ]
    },
    {
      "cell_type": "markdown",
      "metadata": {
        "id": "lD-S5huiyDAz"
      },
      "source": [
        "### InceptionV3 model function"
      ]
    },
    {
      "cell_type": "code",
      "execution_count": 6,
      "metadata": {
        "id": "GWB66FQ8yFuI"
      },
      "outputs": [],
      "source": [
        "def get_inception_model():\n",
        "    base_model = InceptionV3(weights='imagenet', include_top=False, input_shape=(299, 299, 3))\n",
        "    x = base_model.output\n",
        "    x = GlobalAveragePooling2D()(x)\n",
        "    x = Dense(1024, activation='relu')(x)\n",
        "    predictions = Dense(2, activation='softmax')(x)\n",
        "    model = Model(inputs=base_model.input, outputs=predictions)\n",
        "    model.compile(optimizer=tf.keras.optimizers.Adam(1e-4), loss='categorical_crossentropy', metrics=['accuracy'])\n",
        "    return model"
      ]
    },
    {
      "cell_type": "markdown",
      "metadata": {
        "id": "UWQq_csLyHu8"
      },
      "source": [
        "### Training Function"
      ]
    },
    {
      "cell_type": "code",
      "execution_count": 7,
      "metadata": {
        "id": "LkyY0fSIyJTn"
      },
      "outputs": [],
      "source": [
        "def train_model(name, use_clahe=False, use_poly=False):\n",
        "\n",
        "    data_dir = 'ISIC_image_data'\n",
        "\n",
        "    train_dir = os.path.join(data_dir, 'Train')\n",
        "    val_dir = os.path.join(data_dir, 'Val')\n",
        "    test_dir = os.path.join(data_dir, 'Test')\n",
        "\n",
        "    train_gen = CustomDataGenerator(train_dir, batch_size=32, target_size=(299, 299), use_clahe=use_clahe, use_poly=use_poly)\n",
        "    val_gen = CustomDataGenerator(val_dir, batch_size=32, target_size=(299, 299), use_clahe=use_clahe, use_poly=use_poly)\n",
        "    test_gen = CustomDataGenerator(test_dir, batch_size=32, target_size=(299, 299), use_clahe=use_clahe, use_poly=use_poly, shuffle=False)\n",
        "\n",
        "    model = get_inception_model()\n",
        "\n",
        "    checkpoint = ModelCheckpoint(f\"best_model_{name}.h5\", save_best_only=True, monitor='val_accuracy', mode='max')\n",
        "    early_stop = EarlyStopping(patience=5, restore_best_weights=True)\n",
        "\n",
        "    model.fit(\n",
        "        train_gen,\n",
        "        validation_data=val_gen,\n",
        "        epochs=10,\n",
        "        callbacks=[checkpoint, early_stop]\n",
        "    )\n",
        "\n",
        "    loss, acc = model.evaluate(test_gen)\n",
        "    print(f\"Test Accuracy for {name.upper()}: {acc:.4f}\")\n",
        "\n",
        "    y_true = []\n",
        "    y_pred = []\n",
        "    y_score = []\n",
        "\n",
        "    for i in range(len(test_gen)):\n",
        "        batch_imgs, batch_labels = test_gen[i]\n",
        "        preds = model.predict(batch_imgs)\n",
        "        y_true.extend(np.argmax(batch_labels, axis=1))\n",
        "        y_pred.extend(np.argmax(preds, axis=1))\n",
        "        y_score.extend(preds)\n",
        "\n",
        "    y_score = np.array(y_score)\n",
        "    y_true = np.array(y_true)\n",
        "    y_pred = np.array(y_pred)\n",
        "\n",
        "    target_names = ['Benign', 'Malignant']\n",
        "    print(f\"\\nClassification Report for {name.upper()}:\")\n",
        "    print(classification_report(y_true, y_pred, target_names=target_names))\n",
        "\n",
        "    enc = OneHotEncoder(sparse_output=False, categories='auto')\n",
        "    y_true_bin = enc.fit_transform(np.array(y_true).reshape(-1, 1))\n",
        "    if y_true_bin.shape[1] == 1:\n",
        "      print(f\"Only one class present in test set for {name.upper()}. Skipping PR Curve.\")\n",
        "    else:\n",
        "      plt.figure()\n",
        "      for i, class_name in enumerate(target_names):\n",
        "        precision, recall, _ = precision_recall_curve(y_true_bin[:, i], y_score[:, i])\n",
        "        plt.plot(recall, precision, label=f'{class_name}')\n",
        "      plt.xlabel('Recall')\n",
        "      plt.ylabel('Precision')\n",
        "      plt.title(f'Precision-Recall Curve: {name.upper()}')\n",
        "      plt.legend(loc='lower left')\n",
        "      plt.grid(True)\n",
        "      plt.show()"
      ]
    },
    {
      "cell_type": "markdown",
      "metadata": {
        "id": "9p69TitYyPB2"
      },
      "source": [
        "### Running Model for each variant"
      ]
    },
    {
      "cell_type": "markdown",
      "metadata": {
        "id": "wmnHyMvZyTYh"
      },
      "source": [
        "Running model for Clahe"
      ]
    },
    {
      "cell_type": "code",
      "execution_count": null,
      "metadata": {
        "colab": {
          "base_uri": "https://localhost:8080/",
          "height": 1000
        },
        "id": "igmapfMeyRww",
        "outputId": "f7f5fdca-8f9a-420b-87ae-bb0d363e8277"
      },
      "outputs": [
        {
          "name": "stdout",
          "output_type": "stream",
          "text": [
            "Found 2768 images belonging to 2 classes.\n",
            "Found 664 images belonging to 2 classes.\n",
            "Found 80 images belonging to 2 classes.\n"
          ]
        },
        {
          "name": "stderr",
          "output_type": "stream",
          "text": [
            "/opt/homebrew/anaconda3/envs/TF_clean/lib/python3.9/site-packages/keras/src/trainers/data_adapters/py_dataset_adapter.py:121: UserWarning: Your `PyDataset` class should call `super().__init__(**kwargs)` in its constructor. `**kwargs` can include `workers`, `use_multiprocessing`, `max_queue_size`. Do not pass these arguments to `fit()`, as they will be ignored.\n",
            "  self._warn_if_super_not_called()\n"
          ]
        },
        {
          "name": "stdout",
          "output_type": "stream",
          "text": [
            "Epoch 1/10\n",
            "\u001b[1m70/87\u001b[0m \u001b[32m━━━━━━━━━━━━━━━━\u001b[0m\u001b[37m━━━━\u001b[0m \u001b[1m1:35\u001b[0m 6s/step - accuracy: 0.7328 - loss: 0.5125"
          ]
        }
      ],
      "source": [
        "train_model('clahe',use_clahe=True)"
      ]
    },
    {
      "cell_type": "markdown",
      "metadata": {
        "id": "SObJdw-AyU71"
      },
      "source": [
        "Running model for Polynomial"
      ]
    },
    {
      "cell_type": "code",
      "execution_count": null,
      "metadata": {
        "colab": {
          "base_uri": "https://localhost:8080/",
          "height": 1000
        },
        "id": "7EKZKIjPyYPY",
        "outputId": "89c79dd9-4305-4704-9dc6-f670c5b8ffee"
      },
      "outputs": [
        {
          "name": "stdout",
          "output_type": "stream",
          "text": [
            "Found 2768 images belonging to 2 classes.\n",
            "Found 664 images belonging to 2 classes.\n",
            "Found 80 images belonging to 2 classes.\n"
          ]
        },
        {
          "name": "stderr",
          "output_type": "stream",
          "text": [
            "/usr/local/lib/python3.11/dist-packages/keras/src/trainers/data_adapters/py_dataset_adapter.py:121: UserWarning: Your `PyDataset` class should call `super().__init__(**kwargs)` in its constructor. `**kwargs` can include `workers`, `use_multiprocessing`, `max_queue_size`. Do not pass these arguments to `fit()`, as they will be ignored.\n",
            "  self._warn_if_super_not_called()\n"
          ]
        },
        {
          "name": "stdout",
          "output_type": "stream",
          "text": [
            "Epoch 1/10\n",
            "\u001b[1m87/87\u001b[0m \u001b[32m━━━━━━━━━━━━━━━━━━━━\u001b[0m\u001b[37m\u001b[0m \u001b[1m0s\u001b[0m 887ms/step - accuracy: 0.7537 - loss: 0.4602"
          ]
        },
        {
          "name": "stderr",
          "output_type": "stream",
          "text": [
            "WARNING:absl:You are saving your model as an HDF5 file via `model.save()` or `keras.saving.save_model(model)`. This file format is considered legacy. We recommend using instead the native Keras format, e.g. `model.save('my_model.keras')` or `keras.saving.save_model(model, 'my_model.keras')`. \n"
          ]
        },
        {
          "name": "stdout",
          "output_type": "stream",
          "text": [
            "\b\b\b\b\b\b\b\b\b\b\b\b\b\b\b\b\b\b\b\b\b\b\b\b\b\b\b\b\b\b\b\b\b\b\b\b\b\b\b\b\b\b\b\b\b\b\b\b\b\b\b\b\b\b\b\b\b\b\b\b\b\b\b\b\b\b\b\b\b\b\b\b\b\b\r\u001b[1m87/87\u001b[0m \u001b[32m━━━━━━━━━━━━━━━━━━━━\u001b[0m\u001b[37m\u001b[0m \u001b[1m173s\u001b[0m 1s/step - accuracy: 0.7544 - loss: 0.4593 - val_accuracy: 0.7846 - val_loss: 0.5151\n",
            "Epoch 2/10\n",
            "\u001b[1m87/87\u001b[0m \u001b[32m━━━━━━━━━━━━━━━━━━━━\u001b[0m\u001b[37m\u001b[0m \u001b[1m0s\u001b[0m 616ms/step - accuracy: 0.9750 - loss: 0.0911"
          ]
        },
        {
          "name": "stderr",
          "output_type": "stream",
          "text": [
            "WARNING:absl:You are saving your model as an HDF5 file via `model.save()` or `keras.saving.save_model(model)`. This file format is considered legacy. We recommend using instead the native Keras format, e.g. `model.save('my_model.keras')` or `keras.saving.save_model(model, 'my_model.keras')`. \n"
          ]
        },
        {
          "name": "stdout",
          "output_type": "stream",
          "text": [
            "\b\b\b\b\b\b\b\b\b\b\b\b\b\b\b\b\b\b\b\b\b\b\b\b\b\b\b\b\b\b\b\b\b\b\b\b\b\b\b\b\b\b\b\b\b\b\b\b\b\b\b\b\b\b\b\b\b\b\b\b\b\b\b\b\b\b\b\b\b\b\b\b\b\b\r\u001b[1m87/87\u001b[0m \u001b[32m━━━━━━━━━━━━━━━━━━━━\u001b[0m\u001b[37m\u001b[0m \u001b[1m76s\u001b[0m 868ms/step - accuracy: 0.9749 - loss: 0.0911 - val_accuracy: 0.8343 - val_loss: 0.4489\n",
            "Epoch 3/10\n",
            "\u001b[1m87/87\u001b[0m \u001b[32m━━━━━━━━━━━━━━━━━━━━\u001b[0m\u001b[37m\u001b[0m \u001b[1m0s\u001b[0m 609ms/step - accuracy: 0.9897 - loss: 0.0255"
          ]
        },
        {
          "name": "stderr",
          "output_type": "stream",
          "text": [
            "WARNING:absl:You are saving your model as an HDF5 file via `model.save()` or `keras.saving.save_model(model)`. This file format is considered legacy. We recommend using instead the native Keras format, e.g. `model.save('my_model.keras')` or `keras.saving.save_model(model, 'my_model.keras')`. \n"
          ]
        },
        {
          "name": "stdout",
          "output_type": "stream",
          "text": [
            "\b\b\b\b\b\b\b\b\b\b\b\b\b\b\b\b\b\b\b\b\b\b\b\b\b\b\b\b\b\b\b\b\b\b\b\b\b\b\b\b\b\b\b\b\b\b\b\b\b\b\b\b\b\b\b\b\b\b\b\b\b\b\b\b\b\b\b\b\b\b\b\b\b\b\r\u001b[1m87/87\u001b[0m \u001b[32m━━━━━━━━━━━━━━━━━━━━\u001b[0m\u001b[37m\u001b[0m \u001b[1m74s\u001b[0m 855ms/step - accuracy: 0.9897 - loss: 0.0255 - val_accuracy: 0.8479 - val_loss: 0.6797\n",
            "Epoch 4/10\n",
            "\u001b[1m87/87\u001b[0m \u001b[32m━━━━━━━━━━━━━━━━━━━━\u001b[0m\u001b[37m\u001b[0m \u001b[1m0s\u001b[0m 615ms/step - accuracy: 0.9960 - loss: 0.0144"
          ]
        },
        {
          "name": "stderr",
          "output_type": "stream",
          "text": [
            "WARNING:absl:You are saving your model as an HDF5 file via `model.save()` or `keras.saving.save_model(model)`. This file format is considered legacy. We recommend using instead the native Keras format, e.g. `model.save('my_model.keras')` or `keras.saving.save_model(model, 'my_model.keras')`. \n"
          ]
        },
        {
          "name": "stdout",
          "output_type": "stream",
          "text": [
            "\b\b\b\b\b\b\b\b\b\b\b\b\b\b\b\b\b\b\b\b\b\b\b\b\b\b\b\b\b\b\b\b\b\b\b\b\b\b\b\b\b\b\b\b\b\b\b\b\b\b\b\b\b\b\b\b\b\b\b\b\b\b\b\b\b\b\b\b\b\b\b\b\b\b\r\u001b[1m87/87\u001b[0m \u001b[32m━━━━━━━━━━━━━━━━━━━━\u001b[0m\u001b[37m\u001b[0m \u001b[1m76s\u001b[0m 860ms/step - accuracy: 0.9960 - loss: 0.0144 - val_accuracy: 0.8569 - val_loss: 0.6370\n",
            "Epoch 5/10\n",
            "\u001b[1m87/87\u001b[0m \u001b[32m━━━━━━━━━━━━━━━━━━━━\u001b[0m\u001b[37m\u001b[0m \u001b[1m75s\u001b[0m 862ms/step - accuracy: 0.9907 - loss: 0.0214 - val_accuracy: 0.8012 - val_loss: 0.7404\n",
            "Epoch 6/10\n",
            "\u001b[1m87/87\u001b[0m \u001b[32m━━━━━━━━━━━━━━━━━━━━\u001b[0m\u001b[37m\u001b[0m \u001b[1m73s\u001b[0m 838ms/step - accuracy: 0.9851 - loss: 0.0422 - val_accuracy: 0.8449 - val_loss: 0.7696\n",
            "Epoch 7/10\n",
            "\u001b[1m87/87\u001b[0m \u001b[32m━━━━━━━━━━━━━━━━━━━━\u001b[0m\u001b[37m\u001b[0m \u001b[1m0s\u001b[0m 591ms/step - accuracy: 0.9783 - loss: 0.0690"
          ]
        },
        {
          "name": "stderr",
          "output_type": "stream",
          "text": [
            "WARNING:absl:You are saving your model as an HDF5 file via `model.save()` or `keras.saving.save_model(model)`. This file format is considered legacy. We recommend using instead the native Keras format, e.g. `model.save('my_model.keras')` or `keras.saving.save_model(model, 'my_model.keras')`. \n"
          ]
        },
        {
          "name": "stdout",
          "output_type": "stream",
          "text": [
            "\u001b[1m87/87\u001b[0m \u001b[32m━━━━━━━━━━━━━━━━━━━━\u001b[0m\u001b[37m\u001b[0m \u001b[1m73s\u001b[0m 836ms/step - accuracy: 0.9784 - loss: 0.0690 - val_accuracy: 0.8660 - val_loss: 0.7196\n",
            "\u001b[1m3/3\u001b[0m \u001b[32m━━━━━━━━━━━━━━━━━━━━\u001b[0m\u001b[37m\u001b[0m \u001b[1m6s\u001b[0m 3s/step - accuracy: 0.8430 - loss: 0.3202\n",
            "Test Accuracy for POLY: 0.8500\n",
            "\u001b[1m1/1\u001b[0m \u001b[32m━━━━━━━━━━━━━━━━━━━━\u001b[0m\u001b[37m\u001b[0m \u001b[1m6s\u001b[0m 6s/step\n",
            "\u001b[1m1/1\u001b[0m \u001b[32m━━━━━━━━━━━━━━━━━━━━\u001b[0m\u001b[37m\u001b[0m \u001b[1m0s\u001b[0m 80ms/step\n",
            "\u001b[1m1/1\u001b[0m \u001b[32m━━━━━━━━━━━━━━━━━━━━\u001b[0m\u001b[37m\u001b[0m \u001b[1m5s\u001b[0m 5s/step\n",
            "\n",
            "Classification Report for POLY:\n",
            "              precision    recall  f1-score   support\n",
            "\n",
            "      Benign       0.85      0.85      0.85        40\n",
            "   Malignant       0.85      0.85      0.85        40\n",
            "\n",
            "    accuracy                           0.85        80\n",
            "   macro avg       0.85      0.85      0.85        80\n",
            "weighted avg       0.85      0.85      0.85        80\n",
            "\n"
          ]
        },
        {
          "data": {
            "image/png": "[encoded data removed]",
            "text/plain": [
              "<Figure size 640x480 with 1 Axes>"
            ]
          },
          "metadata": {},
          "output_type": "display_data"
        }
      ],
      "source": [
        "train_model('poly', use_poly=True)"
      ]
    },
    {
      "cell_type": "markdown",
      "metadata": {
        "id": "6jTLY7AuyZWN"
      },
      "source": [
        "Running model for Polynomial + Clahe"
      ]
    },
    {
      "cell_type": "code",
      "execution_count": null,
      "metadata": {
        "colab": {
          "base_uri": "https://localhost:8080/",
          "height": 1000
        },
        "id": "K0ciFnIvyd3C",
        "outputId": "4eaa0150-7c9e-4d74-a0da-24a71dbb38d0"
      },
      "outputs": [
        {
          "name": "stdout",
          "output_type": "stream",
          "text": [
            "Found 2768 images belonging to 2 classes.\n",
            "Found 664 images belonging to 2 classes.\n",
            "Found 80 images belonging to 2 classes.\n"
          ]
        },
        {
          "name": "stderr",
          "output_type": "stream",
          "text": [
            "/usr/local/lib/python3.11/dist-packages/keras/src/trainers/data_adapters/py_dataset_adapter.py:121: UserWarning: Your `PyDataset` class should call `super().__init__(**kwargs)` in its constructor. `**kwargs` can include `workers`, `use_multiprocessing`, `max_queue_size`. Do not pass these arguments to `fit()`, as they will be ignored.\n",
            "  self._warn_if_super_not_called()\n"
          ]
        },
        {
          "name": "stdout",
          "output_type": "stream",
          "text": [
            "Epoch 1/10\n",
            "\u001b[1m87/87\u001b[0m \u001b[32m━━━━━━━━━━━━━━━━━━━━\u001b[0m\u001b[37m\u001b[0m \u001b[1m0s\u001b[0m 943ms/step - accuracy: 0.7263 - loss: 0.5167"
          ]
        },
        {
          "name": "stderr",
          "output_type": "stream",
          "text": [
            "WARNING:absl:You are saving your model as an HDF5 file via `model.save()` or `keras.saving.save_model(model)`. This file format is considered legacy. We recommend using instead the native Keras format, e.g. `model.save('my_model.keras')` or `keras.saving.save_model(model, 'my_model.keras')`. \n"
          ]
        },
        {
          "name": "stdout",
          "output_type": "stream",
          "text": [
            "\b\b\b\b\b\b\b\b\b\b\b\b\b\b\b\b\b\b\b\b\b\b\b\b\b\b\b\b\b\b\b\b\b\b\b\b\b\b\b\b\b\b\b\b\b\b\b\b\b\b\b\b\b\b\b\b\b\b\b\b\b\b\b\b\b\b\b\b\b\b\b\b\b\b\r\u001b[1m87/87\u001b[0m \u001b[32m━━━━━━━━━━━━━━━━━━━━\u001b[0m\u001b[37m\u001b[0m \u001b[1m179s\u001b[0m 1s/step - accuracy: 0.7271 - loss: 0.5155 - val_accuracy: 0.8886 - val_loss: 0.2761\n",
            "Epoch 2/10\n",
            "\u001b[1m87/87\u001b[0m \u001b[32m━━━━━━━━━━━━━━━━━━━━\u001b[0m\u001b[37m\u001b[0m \u001b[1m84s\u001b[0m 962ms/step - accuracy: 0.9655 - loss: 0.1135 - val_accuracy: 0.8780 - val_loss: 0.3393\n",
            "Epoch 3/10\n",
            "\u001b[1m87/87\u001b[0m \u001b[32m━━━━━━━━━━━━━━━━━━━━\u001b[0m\u001b[37m\u001b[0m \u001b[1m84s\u001b[0m 966ms/step - accuracy: 0.9977 - loss: 0.0177 - val_accuracy: 0.8735 - val_loss: 0.4275\n",
            "Epoch 4/10\n",
            "\u001b[1m87/87\u001b[0m \u001b[32m━━━━━━━━━━━━━━━━━━━━\u001b[0m\u001b[37m\u001b[0m \u001b[1m80s\u001b[0m 924ms/step - accuracy: 0.9983 - loss: 0.0046 - val_accuracy: 0.8660 - val_loss: 0.4982\n",
            "Epoch 5/10\n",
            "\u001b[1m87/87\u001b[0m \u001b[32m━━━━━━━━━━━━━━━━━━━━\u001b[0m\u001b[37m\u001b[0m \u001b[1m80s\u001b[0m 917ms/step - accuracy: 1.0000 - loss: 6.4892e-04 - val_accuracy: 0.8870 - val_loss: 0.4435\n",
            "Epoch 6/10\n",
            "\u001b[1m87/87\u001b[0m \u001b[32m━━━━━━━━━━━━━━━━━━━━\u001b[0m\u001b[37m\u001b[0m \u001b[1m79s\u001b[0m 909ms/step - accuracy: 1.0000 - loss: 2.4126e-04 - val_accuracy: 0.8825 - val_loss: 0.4729\n",
            "\u001b[1m3/3\u001b[0m \u001b[32m━━━━━━━━━━━━━━━━━━━━\u001b[0m\u001b[37m\u001b[0m \u001b[1m6s\u001b[0m 3s/step - accuracy: 0.8242 - loss: 0.3458\n",
            "Test Accuracy for CLAHE_POLY: 0.7500\n"
          ]
        },
        {
          "name": "stderr",
          "output_type": "stream",
          "text": [
            "WARNING:tensorflow:5 out of the last 7 calls to <function TensorFlowTrainer.make_predict_function.<locals>.one_step_on_data_distributed at 0x784be46cc220> triggered tf.function retracing. Tracing is expensive and the excessive number of tracings could be due to (1) creating @tf.function repeatedly in a loop, (2) passing tensors with different shapes, (3) passing Python objects instead of tensors. For (1), please define your @tf.function outside of the loop. For (2), @tf.function has reduce_retracing=True option that can avoid unnecessary retracing. For (3), please refer to https://www.tensorflow.org/guide/function#controlling_retracing and https://www.tensorflow.org/api_docs/python/tf/function for  more details.\n"
          ]
        },
        {
          "name": "stdout",
          "output_type": "stream",
          "text": [
            "\u001b[1m1/1\u001b[0m \u001b[32m━━━━━━━━━━━━━━━━━━━━\u001b[0m\u001b[37m\u001b[0m \u001b[1m6s\u001b[0m 6s/step\n",
            "\u001b[1m1/1\u001b[0m \u001b[32m━━━━━━━━━━━━━━━━━━━━\u001b[0m\u001b[37m\u001b[0m \u001b[1m0s\u001b[0m 83ms/step\n"
          ]
        },
        {
          "name": "stderr",
          "output_type": "stream",
          "text": [
            "WARNING:tensorflow:6 out of the last 9 calls to <function TensorFlowTrainer.make_predict_function.<locals>.one_step_on_data_distributed at 0x784be46cc220> triggered tf.function retracing. Tracing is expensive and the excessive number of tracings could be due to (1) creating @tf.function repeatedly in a loop, (2) passing tensors with different shapes, (3) passing Python objects instead of tensors. For (1), please define your @tf.function outside of the loop. For (2), @tf.function has reduce_retracing=True option that can avoid unnecessary retracing. For (3), please refer to https://www.tensorflow.org/guide/function#controlling_retracing and https://www.tensorflow.org/api_docs/python/tf/function for  more details.\n"
          ]
        },
        {
          "name": "stdout",
          "output_type": "stream",
          "text": [
            "\u001b[1m1/1\u001b[0m \u001b[32m━━━━━━━━━━━━━━━━━━━━\u001b[0m\u001b[37m\u001b[0m \u001b[1m6s\u001b[0m 6s/step\n",
            "\n",
            "Classification Report for CLAHE_POLY:\n",
            "              precision    recall  f1-score   support\n",
            "\n",
            "      Benign       0.67      0.97      0.80        40\n",
            "   Malignant       0.95      0.53      0.68        40\n",
            "\n",
            "    accuracy                           0.75        80\n",
            "   macro avg       0.81      0.75      0.74        80\n",
            "weighted avg       0.81      0.75      0.74        80\n",
            "\n"
          ]
        },
        {
          "data": {
            "image/png": "[encoded data removed]",
            "text/plain": [
              "<Figure size 640x480 with 1 Axes>"
            ]
          },
          "metadata": {},
          "output_type": "display_data"
        }
      ],
      "source": [
        "train_model('clahe_poly', use_clahe=True, use_poly=True)"
      ]
    }
  ],
  "metadata": {
    "accelerator": "GPU",
    "colab": {
      "gpuType": "L4",
      "machine_shape": "hm",
      "provenance": []
    },
    "kernelspec": {
      "display_name": "TF_clean",
      "language": "python",
      "name": "python3"
    },
    "language_info": {
      "codemirror_mode": {
        "name": "ipython",
        "version": 3
      },
      "file_extension": ".py",
      "mimetype": "text/x-python",
      "name": "python",
      "nbconvert_exporter": "python",
      "pygments_lexer": "ipython3",
      "version": "3.9.18"
    }
  },
  "nbformat": 4,
  "nbformat_minor": 0
}
